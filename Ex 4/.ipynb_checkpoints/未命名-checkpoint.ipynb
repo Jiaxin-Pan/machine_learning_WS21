{
 "cells": [
  {
   "cell_type": "code",
   "execution_count": 1,
   "metadata": {},
   "outputs": [],
   "source": [
    "import numpy as np"
   ]
  },
  {
   "cell_type": "code",
   "execution_count": 4,
   "metadata": {},
   "outputs": [
    {
     "name": "stdout",
     "output_type": "stream",
     "text": [
      "[[0 1]\n",
      " [2 3]\n",
      " [4 5]]\n"
     ]
    }
   ],
   "source": [
    "a = np.array([[0,1],[2,3],[4,5]])\n",
    "print(a)"
   ]
  },
  {
   "cell_type": "code",
   "execution_count": 9,
   "metadata": {},
   "outputs": [
    {
     "name": "stdout",
     "output_type": "stream",
     "text": [
      "[[1. 0. 1.]\n",
      " [1. 2. 3.]\n",
      " [1. 4. 5.]]\n",
      "3\n"
     ]
    }
   ],
   "source": [
    "b = np.ones(3)\n",
    "c = np.c_[b,a]\n",
    "print(c)\n",
    "print(a.shape[0])"
   ]
  },
  {
   "cell_type": "code",
   "execution_count": 10,
   "metadata": {},
   "outputs": [
    {
     "name": "stdout",
     "output_type": "stream",
     "text": [
      "[[1. 1. 1.]\n",
      " [0. 2. 4.]\n",
      " [1. 3. 5.]]\n"
     ]
    }
   ],
   "source": [
    "d = np.transpose(c)\n",
    "print(d)"
   ]
  },
  {
   "cell_type": "code",
   "execution_count": 11,
   "metadata": {},
   "outputs": [
    {
     "name": "stdout",
     "output_type": "stream",
     "text": [
      "[[ 2.  4.  6.]\n",
      " [ 4. 14. 24.]\n",
      " [ 6. 24. 42.]]\n"
     ]
    }
   ],
   "source": [
    "e = np.matmul(c,d)\n",
    "print(e)"
   ]
  },
  {
   "cell_type": "code",
   "execution_count": 15,
   "metadata": {},
   "outputs": [
    {
     "name": "stdout",
     "output_type": "stream",
     "text": [
      "[[-3.38040160e+30  6.76080320e+30 -3.38040160e+30]\n",
      " [ 6.76080320e+30 -1.35216064e+31  6.76080320e+30]\n",
      " [-3.38040160e+30  6.76080320e+30 -3.38040160e+30]]\n"
     ]
    }
   ],
   "source": [
    "f = np.linalg.inv(e)\n",
    "print(f)"
   ]
  },
  {
   "cell_type": "code",
   "execution_count": 16,
   "metadata": {},
   "outputs": [
    {
     "name": "stdout",
     "output_type": "stream",
     "text": [
      "[[-1.12589991e+15 -2.25179981e+15  1.12589991e+15]\n",
      " [-4.50359963e+15 -9.00719925e+15  4.50359963e+15]\n",
      " [ 1.12589991e+15 -1.57625987e+16  7.88129935e+15]]\n"
     ]
    }
   ],
   "source": [
    "print(np.matmul(e,f))"
   ]
  },
  {
   "cell_type": "code",
   "execution_count": 17,
   "metadata": {},
   "outputs": [
    {
     "name": "stdout",
     "output_type": "stream",
     "text": [
      "[[1 1]\n",
      " [1 2]]\n",
      "[[ 2. -1.]\n",
      " [-1.  1.]]\n",
      "[[1. 0.]\n",
      " [0. 1.]]\n"
     ]
    }
   ],
   "source": [
    "x = np.array([[1,1],[1,2]])\n",
    "print(x)\n",
    "y = np.linalg.inv(x)\n",
    "print(y)\n",
    "print(np.matmul(x,y))"
   ]
  },
  {
   "cell_type": "code",
   "execution_count": 18,
   "metadata": {},
   "outputs": [
    {
     "name": "stdout",
     "output_type": "stream",
     "text": [
      "[[10 11]\n",
      " [12 13]\n",
      " [14 15]]\n"
     ]
    }
   ],
   "source": [
    "print(a+10)"
   ]
  },
  {
   "cell_type": "code",
   "execution_count": 19,
   "metadata": {},
   "outputs": [
    {
     "name": "stdout",
     "output_type": "stream",
     "text": [
      "32\n"
     ]
    }
   ],
   "source": [
    "m = np.array([1,2,3])\n",
    "n = np.array([4,5,6])\n",
    "o = np.matmul(m,n)\n",
    "print(o)"
   ]
  },
  {
   "cell_type": "code",
   "execution_count": 24,
   "metadata": {},
   "outputs": [
    {
     "name": "stdout",
     "output_type": "stream",
     "text": [
      "[[0 1]\n",
      " [2 3]\n",
      " [4 5]]\n",
      "[[1. 0. 1.]\n",
      " [1. 2. 3.]\n",
      " [1. 4. 5.]]\n",
      "[[1. 1. 1.]\n",
      " [0. 2. 4.]\n",
      " [1. 3. 5.]]\n",
      "[[ 5.62949953e+14  5.62949953e+14  0.00000000e+00]\n",
      " [ 5.62949953e+14  0.00000000e+00 -1.12589991e+15]\n",
      " [-5.62949953e+14  0.00000000e+00  1.12589991e+15]]\n"
     ]
    }
   ],
   "source": [
    "print(a)\n",
    "w0 = np.ones(a.shape[0])   #生成一个全为1的N行的向量\n",
    "X = np.c_[w0,a]\n",
    "print(X)\n",
    "XT = np.transpose(X)\n",
    "print(XT)\n",
    "XTXIXT = np.matmul(np.linalg.inv(np.matmul(XT,X)),XT)\n",
    "print(XTXIXT)"
   ]
  },
  {
   "cell_type": "code",
   "execution_count": null,
   "metadata": {},
   "outputs": [],
   "source": []
  }
 ],
 "metadata": {
  "kernelspec": {
   "display_name": "Python 3",
   "language": "python",
   "name": "python3"
  },
  "language_info": {
   "codemirror_mode": {
    "name": "ipython",
    "version": 3
   },
   "file_extension": ".py",
   "mimetype": "text/x-python",
   "name": "python",
   "nbconvert_exporter": "python",
   "pygments_lexer": "ipython3",
   "version": "3.7.9"
  }
 },
 "nbformat": 4,
 "nbformat_minor": 4
}
