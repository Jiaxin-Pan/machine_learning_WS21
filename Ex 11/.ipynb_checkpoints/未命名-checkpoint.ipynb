{
 "cells": [
  {
   "cell_type": "code",
   "execution_count": 1,
   "metadata": {},
   "outputs": [],
   "source": [
    "import numpy as np"
   ]
  },
  {
   "cell_type": "code",
   "execution_count": 3,
   "metadata": {},
   "outputs": [
    {
     "name": "stdout",
     "output_type": "stream",
     "text": [
      "[[1 1 1 0 0]\n",
      " [3 3 3 0 0]\n",
      " [4 4 4 0 0]\n",
      " [5 5 5 0 0]\n",
      " [0 0 0 4 4]\n",
      " [0 0 0 5 5]\n",
      " [0 0 0 2 2]]\n"
     ]
    }
   ],
   "source": [
    "a = np.array([[1,1,1,0,0],[3,3,3,0,0],[4,4,4,0,0],[5,5,5,0,0],[0,0,0,4,4],[0,0,0,5,5],[0,0,0,2,2]])\n",
    "print(a)"
   ]
  },
  {
   "cell_type": "code",
   "execution_count": 6,
   "metadata": {},
   "outputs": [
    {
     "name": "stdout",
     "output_type": "stream",
     "text": [
      "[[1 0 0]\n",
      " [1 0 0]\n",
      " [1 0 0]\n",
      " [0 0 1]\n",
      " [0 0 1]]\n",
      "[[0.33333333 0.33333333 0.33333333 0.         0.        ]\n",
      " [0.         0.         0.         0.         0.        ]\n",
      " [0.         0.         0.         0.5        0.5       ]]\n"
     ]
    }
   ],
   "source": [
    "W1 = np.array([[1,0,0],[1,0,0],[1,0,0],[0,0,1],[0,0,1]])\n",
    "W2 = np.array([[1/3,1/3,1/3,0,0],[0,0,0,0,0],[0,0,0,1/2,1/2]])\n",
    "print(W1)\n",
    "print(W2)"
   ]
  },
  {
   "cell_type": "code",
   "execution_count": 5,
   "metadata": {},
   "outputs": [
    {
     "name": "stdout",
     "output_type": "stream",
     "text": [
      "[[1. 1. 1. 0. 0.]\n",
      " [3. 3. 3. 0. 0.]\n",
      " [4. 4. 4. 0. 0.]\n",
      " [5. 5. 5. 0. 0.]\n",
      " [0. 0. 0. 4. 4.]\n",
      " [0. 0. 0. 5. 5.]\n",
      " [0. 0. 0. 2. 2.]]\n"
     ]
    }
   ],
   "source": [
    "print(a@W1@W2)"
   ]
  },
  {
   "cell_type": "code",
   "execution_count": null,
   "metadata": {},
   "outputs": [],
   "source": []
  }
 ],
 "metadata": {
  "kernelspec": {
   "display_name": "Python 3",
   "language": "python",
   "name": "python3"
  },
  "language_info": {
   "codemirror_mode": {
    "name": "ipython",
    "version": 3
   },
   "file_extension": ".py",
   "mimetype": "text/x-python",
   "name": "python",
   "nbconvert_exporter": "python",
   "pygments_lexer": "ipython3",
   "version": "3.7.9"
  }
 },
 "nbformat": 4,
 "nbformat_minor": 4
}
